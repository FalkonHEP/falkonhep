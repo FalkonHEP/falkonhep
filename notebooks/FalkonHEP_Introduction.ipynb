{
 "cells": [
  {
   "cell_type": "markdown",
   "metadata": {},
   "source": [
    "# FalkonHEP Introduction"
   ]
  },
  {
   "cell_type": "code",
   "execution_count": 1,
   "metadata": {},
   "outputs": [
    {
     "name": "stdout",
     "output_type": "stream",
     "text": [
      "[pyKeOps]: Warning, no cuda detected. Switching to cpu only.\n"
     ]
    }
   ],
   "source": [
    "from falkonhep import LogFalkonHEPModel"
   ]
  },
  {
   "cell_type": "markdown",
   "metadata": {},
   "source": [
    "## Model definition"
   ]
  },
  {
   "cell_type": "code",
   "execution_count": 2,
   "metadata": {},
   "outputs": [],
   "source": [
    "reference_path = \"\" # Path to reference directory\n",
    "data_path = \"\" # Path to data directory\n",
    "output_path = \"./out\" # Output path\n",
    "\n",
    "model = LogFalkonHEPModel(reference_path, data_path, output_path, None)"
   ]
  },
  {
   "cell_type": "markdown",
   "metadata": {},
   "source": [
    "## Setting experiment parameters"
   ]
  },
  {
   "cell_type": "code",
   "execution_count": 3,
   "metadata": {},
   "outputs": [],
   "source": [
    "R = 100000 # Reference size\n",
    "B = 20000 # Background expected size\n",
    "S = 0 # Signal expected size\n",
    "features = ['...'] # Feature used\n",
    "normalize = True # if data should be normalized\n",
    "sig_type = 0 # signal type it can be (0: no signal, 1: resonant, 2: non resonant)"
   ]
  },
  {
   "cell_type": "markdown",
   "metadata": {},
   "source": [
    "## Setting LogFalkon parameter"
   ]
  },
  {
   "cell_type": "code",
   "execution_count": 4,
   "metadata": {},
   "outputs": [],
   "source": [
    "model_parameters = {\n",
    "    'sigma' : 3.0, # kernel lengthscale\n",
    "    'penalty_list' : [1e-7], # list of regularization parameters,\n",
    "    'iter_list' : [1000000], #list of number of CG iterations,\n",
    "    'M' : 20000, #number of Nystrom centers,\n",
    "    'keops_active': \"auto\", # optional, if it is used, pyKeOPS is used to speed-up computations\n",
    "    'seed' : 12 # model seed (used for Nystrom center selection)\n",
    "}"
   ]
  },
  {
   "cell_type": "markdown",
   "metadata": {},
   "source": [
    "## Produce a toy"
   ]
  },
  {
   "cell_type": "code",
   "execution_count": null,
   "metadata": {},
   "outputs": [],
   "source": [
    "# Fill the reference, data path and feature list to run this cell\n",
    "\n",
    "t, Nw, train_time, ref_seed, sig_seed = model.learn_t(R, B, S, features, model_parameters,\\\n",
    "                                                                sig_type=sig_type, normalize = normalize)\n",
    "\n",
    "# Result can be stored in a file using save_result function\n",
    "toy_id = 0 # used just to give an index to a toy\n",
    "model.save_result(\"result\", toy_id, t, Nw, train_time, ref_seed, sig_seed)\n"
   ]
  }
 ],
 "metadata": {
  "interpreter": {
   "hash": "f26523b67ea2835ee6a77b36d2cc412a491957c6cdc7ecd6fb71972c20460352"
  },
  "kernelspec": {
   "display_name": "Python 3 (ipykernel)",
   "language": "python",
   "name": "python3"
  },
  "language_info": {
   "codemirror_mode": {
    "name": "ipython",
    "version": 3
   },
   "file_extension": ".py",
   "mimetype": "text/x-python",
   "name": "python",
   "nbconvert_exporter": "python",
   "pygments_lexer": "ipython3",
   "version": "3.9.2"
  }
 },
 "nbformat": 4,
 "nbformat_minor": 2
}
